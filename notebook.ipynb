{
 "cells": [
  {
   "cell_type": "markdown",
   "metadata": {},
   "source": [
    "### Run Blender on a train/test split to render objects"
   ]
  },
  {
   "cell_type": "code",
   "execution_count": 1,
   "metadata": {},
   "outputs": [
    {
     "ename": "AttributeError",
     "evalue": "module 'blenderproc' has no attribute 'init'",
     "output_type": "error",
     "traceback": [
      "\u001b[0;31m---------------------------------------------------------------------------\u001b[0m",
      "\u001b[0;31mAttributeError\u001b[0m                            Traceback (most recent call last)",
      "Cell \u001b[0;32mIn[1], line 2\u001b[0m\n\u001b[1;32m      1\u001b[0m \u001b[38;5;28;01mimport\u001b[39;00m \u001b[38;5;21;01mblenderproc\u001b[39;00m  \u001b[38;5;28;01mas\u001b[39;00m \u001b[38;5;21;01mbproc\u001b[39;00m\n\u001b[0;32m----> 2\u001b[0m \u001b[43mbproc\u001b[49m\u001b[38;5;241;43m.\u001b[39;49m\u001b[43minit\u001b[49m()\n\u001b[1;32m      3\u001b[0m \u001b[38;5;66;03m# Create a simple cube\u001b[39;00m\n\u001b[1;32m      4\u001b[0m cube \u001b[38;5;241m=\u001b[39m bproc\u001b[38;5;241m.\u001b[39mobject\u001b[38;5;241m.\u001b[39mcreate_primitive(\u001b[38;5;124m'\u001b[39m\u001b[38;5;124mCUBE\u001b[39m\u001b[38;5;124m'\u001b[39m)\n",
      "\u001b[0;31mAttributeError\u001b[0m: module 'blenderproc' has no attribute 'init'"
     ]
    }
   ],
   "source": [
    "# Define the base directory\n",
    "BASE_DIR=\"/media/qil/DATA/Carter_Articulated_Objects/real2code_experiments/data/partnet-mobility-v0\"\n",
    "BASE= \"/media/qil/DATA/Carter_Articulated_Objects/real2code_experiments/data/partnet-mobility-v0/test\"\n",
    "DATA_SPLIT=\"test\"\n",
    "\n",
    "for CATEGORY in \"$BASE_DIR\"/*; do\n",
    "    if [ -d \"$CATEGORY\" ]; then\n",
    "        CATEGORY_NAME=$(basename \"$CATEGORY\")\n",
    "        echo \"Processing category: $CATEGORY_NAME\"\n",
    "\n",
    "        # Iterate over each object folder within the category\n",
    "        for FOLDER in \"$CATEGORY\"/*; do\n",
    "            if [ -d \"$FOLDER\" ]; then\n",
    "                echo \"   processing object#: $FOLDER\"\n",
    "                blenderproc run --custom-blender-path /media/qil/DATA/Carter_Articulated_Objects/blender-3.3.1-linux-x64 blender_render.py --data_dir \"$BASE_DIR\" --split \"$DATA_SPLIT\" --folder \"$FOLDER\" --num_loops 3 --num_frames 3 -o\n",
    "            fi\n",
    "        done\n",
    "    fi\n",
    "done"
   ]
  },
  {
   "cell_type": "markdown",
   "metadata": {},
   "source": [
    "### Run Blenderproc to render objects from a folder"
   ]
  },
  {
   "cell_type": "code",
   "execution_count": null,
   "metadata": {},
   "outputs": [],
   "source": [
    "BASE_DIR=\"/media/qil/DATA/Carter_Articulated_Objects/real2code_experiments/data/partnet-mobility-v0\"\n",
    "DATA_SPLIT=\"test\"\n",
    "for OBJ in Pen; do\n",
    "    export MB_DATADIR=\"${BASE_DIR}/${DATA_SPLIT}/${OBJ}\"\n",
    "    echo \"Processing object category: ${OBJ}\"\n",
    "    echo \"MB_DATADIR is set to: ${MB_DATADIR}\"\n",
    "    \n",
    "    for FOLDER in \"${MB_DATADIR}\"/*; do \n",
    "        echo \"   processing object#   : $FOLDER\"  \n",
    "        blenderproc run --custom-blender-path /media/qil/DATA/Carter_Articulated_Objects/blender-3.3.1-linux-x64 blender_render.py --data_dir \"$BASE_DIR\" --split \"$DATA_SPLIT\" --folder \"$FOLDER\" --num_loops 3 --num_frames 3 -o\n",
    "    done\n",
    "done"
   ]
  },
  {
   "cell_type": "markdown",
   "metadata": {},
   "source": [
    "### Count Objects"
   ]
  },
  {
   "cell_type": "code",
   "execution_count": 5,
   "metadata": {},
   "outputs": [
    {
     "name": "stdout",
     "output_type": "stream",
     "text": [
      "Bottle: 44 objects\n",
      "Kettle: 23 objects\n",
      "Knife: 35 objects\n",
      "Lamp: 36 objects\n",
      "Lighter: 22 objects\n",
      "Mouse: 11 objects\n",
      "Pen: 38 objects\n",
      "Pliers: 20 objects\n",
      "Scissors: 48 objects\n",
      "USB: 40 objects\n",
      "Total Objects: 317\n"
     ]
    }
   ],
   "source": [
    "import os\n",
    "\n",
    "# Define the directory path\n",
    "directory_path = '/media/qil/DATA/Carter_Articulated_Objects/real2code_experiments/data/partnet-mobility-v0/train'  # Update this to the path of your test folder\n",
    "\n",
    "# Initialize a dictionary to store the count of directories in each subfolder\n",
    "folder_counts = {}\n",
    "\n",
    "# Walk through the directory\n",
    "for root, dirs, files in os.walk(directory_path):\n",
    "    # Only process the immediate subdirectories of the root directory\n",
    "    if root == directory_path:\n",
    "        for dir_name in dirs:\n",
    "            dir_path = os.path.join(root, dir_name)\n",
    "            # Count the number of directories in the current directory\n",
    "            dir_count = len([name for name in os.listdir(dir_path) if os.path.isdir(os.path.join(dir_path, name))])\n",
    "            folder_counts[dir_name] = dir_count\n",
    "\n",
    "total_count = 0\n",
    "# Display the counts\n",
    "for folder, count in folder_counts.items():\n",
    "    print(f\"{folder}: {count} objects\")\n",
    "    total_count += count\n",
    "print(f'Total Objects: {total_count}')"
   ]
  },
  {
   "cell_type": "markdown",
   "metadata": {},
   "source": [
    "### Split Train/Test of Objects"
   ]
  },
  {
   "cell_type": "code",
   "execution_count": null,
   "metadata": {},
   "outputs": [],
   "source": [
    "import os\n",
    "import shutil\n",
    "import random\n",
    "\n",
    "# Define paths\n",
    "data_dir = '/mnt/data/data/partnet-mobility-v0'\n",
    "train_dir = '/mnt/data/train'\n",
    "test_dir = '/mnt/data/test'\n",
    "\n",
    "# Define train/test split ratio\n",
    "split_ratio = 0.8\n",
    "\n",
    "# Create train and test directories if they don't exist\n",
    "os.makedirs(train_dir, exist_ok=True)\n",
    "os.makedirs(test_dir, exist_ok=True)\n",
    "\n",
    "# List all categories\n",
    "categories = [d for d in os.listdir(data_dir) if os.path.isdir(os.path.join(data_dir, d))]\n",
    "\n",
    "for category in categories:\n",
    "    category_dir = os.path.join(data_dir, category)\n",
    "    \n",
    "    # List all objects in the category\n",
    "    objects = [d for d in os.listdir(category_dir) if os.path.isdir(os.path.join(category_dir, d))]\n",
    "    \n",
    "    # Shuffle the objects to ensure randomness\n",
    "    random.shuffle(objects)\n",
    "    \n",
    "    # Determine the split index\n",
    "    split_index = int(len(objects) * split_ratio)\n",
    "    \n",
    "    # Split objects into train and test\n",
    "    train_objects = objects[:split_index]\n",
    "    test_objects = objects[split_index:]\n",
    "    \n",
    "    # Create category directories in train and test folders\n",
    "    os.makedirs(os.path.join(train_dir, category), exist_ok=True)\n",
    "    os.makedirs(os.path.join(test_dir, category), exist_ok=True)\n",
    "    \n",
    "    # Move objects to train directory\n",
    "    for obj in train_objects:\n",
    "        shutil.copytree(os.path.join(category_dir, obj), os.path.join(train_dir, category, obj))\n",
    "    \n",
    "    # Move objects to test directory\n",
    "    for obj in test_objects:\n",
    "        shutil.copytree(os.path.join(category_dir, obj), os.path.join(test_dir, category, obj))\n",
    "\n",
    "print(\"Train/test split completed.\")"
   ]
  }
 ],
 "metadata": {
  "kernelspec": {
   "display_name": "real2code",
   "language": "python",
   "name": "python3"
  },
  "language_info": {
   "codemirror_mode": {
    "name": "ipython",
    "version": 3
   },
   "file_extension": ".py",
   "mimetype": "text/x-python",
   "name": "python",
   "nbconvert_exporter": "python",
   "pygments_lexer": "ipython3",
   "version": "3.9.17"
  }
 },
 "nbformat": 4,
 "nbformat_minor": 2
}
